{
  "nbformat": 4,
  "nbformat_minor": 0,
  "metadata": {
    "colab": {
      "name": "PaySim - 3rd Party Fraud.ipynb",
      "provenance": [],
      "collapsed_sections": [],
      "authorship_tag": "ABX9TyN2X5ODZG2c4Zts0IglaXsL",
      "include_colab_link": true
    },
    "kernelspec": {
      "name": "python3",
      "display_name": "Python 3"
    },
    "language_info": {
      "name": "python"
    }
  },
  "cells": [
    {
      "cell_type": "markdown",
      "metadata": {
        "id": "view-in-github",
        "colab_type": "text"
      },
      "source": [
        "<a href=\"https://colab.research.google.com/github/voutilad/paysim-notebook/blob/main/PaySim_3rd_Party_Fraud.ipynb\" target=\"_parent\"><img src=\"https://colab.research.google.com/assets/colab-badge.svg\" alt=\"Open In Colab\"/></a>"
      ]
    },
    {
      "cell_type": "code",
      "metadata": {
        "id": "rJnxuIxsF0nK",
        "colab": {
          "base_uri": "https://localhost:8080/"
        },
        "outputId": "74bd5bbc-4556-4007-ca1c-0d05d12052dc"
      },
      "source": [
        "# Install Neo4j Driver\n",
        "%pip install -U neo4j"
      ],
      "execution_count": 1,
      "outputs": [
        {
          "output_type": "stream",
          "text": [
            "Collecting neo4j\n",
            "  Downloading neo4j-4.3.1.tar.gz (74 kB)\n",
            "\u001b[K     |████████████████████████████████| 74 kB 770 kB/s \n",
            "\u001b[?25hRequirement already satisfied: pytz in /opt/conda/lib/python3.9/site-packages (from neo4j) (2021.1)\n",
            "Building wheels for collected packages: neo4j\n",
            "  Building wheel for neo4j (setup.py) ... \u001b[?25l-\b \b\\\b \bdone\n",
            "\u001b[?25h  Created wheel for neo4j: filename=neo4j-4.3.1-py3-none-any.whl size=99332 sha256=a14f3dd931499bf539407460a9429de19eba1cff5ecbd909bd11079311c0654d\n",
            "  Stored in directory: /home/jovyan/.cache/pip/wheels/3f/5e/cf/992d9576b28ced169cb46d19f0ba857e71e59845d5f93a4146\n",
            "Successfully built neo4j\n",
            "Installing collected packages: neo4j\n",
            "Successfully installed neo4j-4.3.1\n",
            "Note: you may need to restart the kernel to use updated packages.\n"
          ],
          "name": "stdout"
        }
      ]
    },
    {
      "cell_type": "code",
      "metadata": {
        "colab": {
          "base_uri": "https://localhost:8080/"
        },
        "id": "9OisjS6RPxL4",
        "outputId": "30490bb0-69ce-4045-e989-3bd2d8391ab9"
      },
      "source": [
        "# Prep some plot capabilities\n",
        "%matplotlib inline\n",
        "import matplotlib.pyplot as plt\n",
        "plt.style.use('seaborn-whitegrid')\n",
        "import numpy as np\n",
        "print(\"Numpy and MatplotLib ready!\")"
      ],
      "execution_count": 7,
      "outputs": [
        {
          "output_type": "stream",
          "text": [
            "Numpy and MatplotLib ready!\n"
          ],
          "name": "stdout"
        }
      ]
    },
    {
      "cell_type": "code",
      "metadata": {
        "id": "RteyCm4LQDBT"
      },
      "source": [
        ""
      ],
      "execution_count": null,
      "outputs": []
    }
  ]
}